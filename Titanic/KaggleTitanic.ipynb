{
  "nbformat": 4,
  "nbformat_minor": 0,
  "metadata": {
    "colab": {
      "name": "KaggleTitanic.ipynb",
      "provenance": [],
      "collapsed_sections": [],
      "toc_visible": true
    },
    "kernelspec": {
      "name": "python3",
      "display_name": "Python 3"
    }
  },
  "cells": [
    {
      "cell_type": "markdown",
      "metadata": {
        "id": "3QURZvfesVSn"
      },
      "source": [
        "# Kaggle Competition: Titanic - Machine Learning from Disaster \n",
        "This is my participation in my first Kaggle educational competition.\n",
        "\n",
        "## Question and problem definition\n",
        "**The objective of the competition:** use machine learning to create a model that predicts which passengers survived the Titanic shipwreck. More precisely: The challenge is to build a predictive model that answers the question: “what sorts of people were more likely to survive?” using passenger data (ie name, age, gender, socio-economic class, etc). \n",
        "\n",
        "**Some background for the problem:**\n",
        "\n",
        "\n",
        "*   On April 15, 1912, during her maiden voyage, the Titanic (the 'unsinkable') sank after colliding with an iceberg, killing 1502 out of 2224 passengers and crew. Thus only 32 % of its passengers survived.\n",
        "*  One of the reasons that the shipwreck led to such loss of life was that there were not enough lifeboats for the passengers and crew. \n",
        "*  Women and children were more likely to survive because of the \"women and children first\" protocol for loading lifeboats. But probably also luck was involved in the process.\n",
        "\n"
      ]
    },
    {
      "cell_type": "markdown",
      "metadata": {
        "id": "Vb9kp2avslV6"
      },
      "source": [
        "## Importing needed libraries"
      ]
    },
    {
      "cell_type": "code",
      "metadata": {
        "id": "qVMro4lutMkb"
      },
      "source": [
        "import numpy as np\n",
        "import pandas as pd\n",
        "import matplotlib.pyplot as plt\n",
        "import seaborn as sb"
      ],
      "execution_count": 9,
      "outputs": []
    },
    {
      "cell_type": "markdown",
      "metadata": {
        "id": "6G6GEakHspnu"
      },
      "source": [
        "## Accuiring data"
      ]
    },
    {
      "cell_type": "code",
      "metadata": {
        "id": "4cfSjTRotXB_"
      },
      "source": [
        "train_df = pd.read_csv('train.csv')\n",
        "test_df = pd.read_csv('test.csv')\n",
        "combine = [train_df, test_df]"
      ],
      "execution_count": 34,
      "outputs": []
    },
    {
      "cell_type": "markdown",
      "metadata": {
        "id": "53v9OZHcss5W"
      },
      "source": [
        "## Checking data and initial research\n",
        "\n"
      ]
    },
    {
      "cell_type": "markdown",
      "metadata": {
        "id": "B03oLgZSdKbp"
      },
      "source": [
        "### Features available on the dataset\n",
        "The feature names are described on the [Kaggle data page here](https://www.kaggle.com/c/titanic/data).\n"
      ]
    },
    {
      "cell_type": "code",
      "metadata": {
        "id": "OCntAB_rYF1H",
        "colab": {
          "base_uri": "https://localhost:8080/",
          "height": 229
        },
        "outputId": "a31691e4-f5d3-4042-d274-7b6323b92832"
      },
      "source": [
        "train_df.head()"
      ],
      "execution_count": 3,
      "outputs": [
        {
          "output_type": "execute_result",
          "data": {
            "text/html": [
              "<div>\n",
              "<style scoped>\n",
              "    .dataframe tbody tr th:only-of-type {\n",
              "        vertical-align: middle;\n",
              "    }\n",
              "\n",
              "    .dataframe tbody tr th {\n",
              "        vertical-align: top;\n",
              "    }\n",
              "\n",
              "    .dataframe thead th {\n",
              "        text-align: right;\n",
              "    }\n",
              "</style>\n",
              "<table border=\"1\" class=\"dataframe\">\n",
              "  <thead>\n",
              "    <tr style=\"text-align: right;\">\n",
              "      <th></th>\n",
              "      <th>PassengerId</th>\n",
              "      <th>Survived</th>\n",
              "      <th>Pclass</th>\n",
              "      <th>Name</th>\n",
              "      <th>Sex</th>\n",
              "      <th>Age</th>\n",
              "      <th>SibSp</th>\n",
              "      <th>Parch</th>\n",
              "      <th>Ticket</th>\n",
              "      <th>Fare</th>\n",
              "      <th>Cabin</th>\n",
              "      <th>Embarked</th>\n",
              "    </tr>\n",
              "  </thead>\n",
              "  <tbody>\n",
              "    <tr>\n",
              "      <th>0</th>\n",
              "      <td>1</td>\n",
              "      <td>0</td>\n",
              "      <td>3</td>\n",
              "      <td>Braund, Mr. Owen Harris</td>\n",
              "      <td>male</td>\n",
              "      <td>22.0</td>\n",
              "      <td>1</td>\n",
              "      <td>0</td>\n",
              "      <td>A/5 21171</td>\n",
              "      <td>7.2500</td>\n",
              "      <td>NaN</td>\n",
              "      <td>S</td>\n",
              "    </tr>\n",
              "    <tr>\n",
              "      <th>1</th>\n",
              "      <td>2</td>\n",
              "      <td>1</td>\n",
              "      <td>1</td>\n",
              "      <td>Cumings, Mrs. John Bradley (Florence Briggs Th...</td>\n",
              "      <td>female</td>\n",
              "      <td>38.0</td>\n",
              "      <td>1</td>\n",
              "      <td>0</td>\n",
              "      <td>PC 17599</td>\n",
              "      <td>71.2833</td>\n",
              "      <td>C85</td>\n",
              "      <td>C</td>\n",
              "    </tr>\n",
              "    <tr>\n",
              "      <th>2</th>\n",
              "      <td>3</td>\n",
              "      <td>1</td>\n",
              "      <td>3</td>\n",
              "      <td>Heikkinen, Miss. Laina</td>\n",
              "      <td>female</td>\n",
              "      <td>26.0</td>\n",
              "      <td>0</td>\n",
              "      <td>0</td>\n",
              "      <td>STON/O2. 3101282</td>\n",
              "      <td>7.9250</td>\n",
              "      <td>NaN</td>\n",
              "      <td>S</td>\n",
              "    </tr>\n",
              "    <tr>\n",
              "      <th>3</th>\n",
              "      <td>4</td>\n",
              "      <td>1</td>\n",
              "      <td>1</td>\n",
              "      <td>Futrelle, Mrs. Jacques Heath (Lily May Peel)</td>\n",
              "      <td>female</td>\n",
              "      <td>35.0</td>\n",
              "      <td>1</td>\n",
              "      <td>0</td>\n",
              "      <td>113803</td>\n",
              "      <td>53.1000</td>\n",
              "      <td>C123</td>\n",
              "      <td>S</td>\n",
              "    </tr>\n",
              "    <tr>\n",
              "      <th>4</th>\n",
              "      <td>5</td>\n",
              "      <td>0</td>\n",
              "      <td>3</td>\n",
              "      <td>Allen, Mr. William Henry</td>\n",
              "      <td>male</td>\n",
              "      <td>35.0</td>\n",
              "      <td>0</td>\n",
              "      <td>0</td>\n",
              "      <td>373450</td>\n",
              "      <td>8.0500</td>\n",
              "      <td>NaN</td>\n",
              "      <td>S</td>\n",
              "    </tr>\n",
              "  </tbody>\n",
              "</table>\n",
              "</div>"
            ],
            "text/plain": [
              "   PassengerId  Survived  Pclass  ...     Fare Cabin  Embarked\n",
              "0            1         0       3  ...   7.2500   NaN         S\n",
              "1            2         1       1  ...  71.2833   C85         C\n",
              "2            3         1       3  ...   7.9250   NaN         S\n",
              "3            4         1       1  ...  53.1000  C123         S\n",
              "4            5         0       3  ...   8.0500   NaN         S\n",
              "\n",
              "[5 rows x 12 columns]"
            ]
          },
          "metadata": {
            "tags": []
          },
          "execution_count": 3
        }
      ]
    },
    {
      "cell_type": "markdown",
      "metadata": {
        "id": "Cq1RY9feY3_U"
      },
      "source": [
        "**Categorical features:** Survived, Pclass, Sex, Embarked\n",
        "\n",
        "**Numerical features:** Continuous: Age, Fare, Discrete: SibSp, Parch\n",
        "\n",
        "**Mixed type features:** Ticket, Cabin (both contain numbers and letters)\n",
        "\n",
        "**Name** feature also contains title of the person like Mr., Mrs., Miss., etc.\n"
      ]
    },
    {
      "cell_type": "markdown",
      "metadata": {
        "id": "3966YzX_c40V"
      },
      "source": [
        "#### Which features contain blank, null or empty values? "
      ]
    },
    {
      "cell_type": "code",
      "metadata": {
        "id": "Cl3akU3tbKAK",
        "colab": {
          "base_uri": "https://localhost:8080/"
        },
        "outputId": "65ab6c29-0af3-45f0-f522-b9af65071442"
      },
      "source": [
        "train_df.info()\n",
        "print(\"-\"*20)\n",
        "test_df.info()"
      ],
      "execution_count": 4,
      "outputs": [
        {
          "output_type": "stream",
          "text": [
            "<class 'pandas.core.frame.DataFrame'>\n",
            "RangeIndex: 891 entries, 0 to 890\n",
            "Data columns (total 12 columns):\n",
            " #   Column       Non-Null Count  Dtype  \n",
            "---  ------       --------------  -----  \n",
            " 0   PassengerId  891 non-null    int64  \n",
            " 1   Survived     891 non-null    int64  \n",
            " 2   Pclass       891 non-null    int64  \n",
            " 3   Name         891 non-null    object \n",
            " 4   Sex          891 non-null    object \n",
            " 5   Age          714 non-null    float64\n",
            " 6   SibSp        891 non-null    int64  \n",
            " 7   Parch        891 non-null    int64  \n",
            " 8   Ticket       891 non-null    object \n",
            " 9   Fare         891 non-null    float64\n",
            " 10  Cabin        204 non-null    object \n",
            " 11  Embarked     889 non-null    object \n",
            "dtypes: float64(2), int64(5), object(5)\n",
            "memory usage: 83.7+ KB\n",
            "--------------------\n",
            "<class 'pandas.core.frame.DataFrame'>\n",
            "RangeIndex: 418 entries, 0 to 417\n",
            "Data columns (total 11 columns):\n",
            " #   Column       Non-Null Count  Dtype  \n",
            "---  ------       --------------  -----  \n",
            " 0   PassengerId  418 non-null    int64  \n",
            " 1   Pclass       418 non-null    int64  \n",
            " 2   Name         418 non-null    object \n",
            " 3   Sex          418 non-null    object \n",
            " 4   Age          332 non-null    float64\n",
            " 5   SibSp        418 non-null    int64  \n",
            " 6   Parch        418 non-null    int64  \n",
            " 7   Ticket       418 non-null    object \n",
            " 8   Fare         417 non-null    float64\n",
            " 9   Cabin        91 non-null     object \n",
            " 10  Embarked     418 non-null    object \n",
            "dtypes: float64(2), int64(4), object(5)\n",
            "memory usage: 36.0+ KB\n"
          ],
          "name": "stdout"
        }
      ]
    },
    {
      "cell_type": "markdown",
      "metadata": {
        "id": "xAxssISEdrif"
      },
      "source": [
        "**These will require correcting:** Age, Cabin and embarked in the training dataset. Age, Cabin and Fare in the test set. "
      ]
    },
    {
      "cell_type": "markdown",
      "metadata": {
        "id": "lhaCE2iaewgv"
      },
      "source": [
        "#### What is the distribution of numerical feature values across the samples?\n",
        "\n",
        "This helps us determine, among other early insights, how representative is the training dataset of the actual problem domain.\n"
      ]
    },
    {
      "cell_type": "code",
      "metadata": {
        "id": "UD4HaIXae3Lt",
        "colab": {
          "base_uri": "https://localhost:8080/",
          "height": 284
        },
        "outputId": "92ad14a0-6915-401e-c1c7-c3f7881a06c8"
      },
      "source": [
        "train_df.describe()"
      ],
      "execution_count": 5,
      "outputs": [
        {
          "output_type": "execute_result",
          "data": {
            "text/html": [
              "<div>\n",
              "<style scoped>\n",
              "    .dataframe tbody tr th:only-of-type {\n",
              "        vertical-align: middle;\n",
              "    }\n",
              "\n",
              "    .dataframe tbody tr th {\n",
              "        vertical-align: top;\n",
              "    }\n",
              "\n",
              "    .dataframe thead th {\n",
              "        text-align: right;\n",
              "    }\n",
              "</style>\n",
              "<table border=\"1\" class=\"dataframe\">\n",
              "  <thead>\n",
              "    <tr style=\"text-align: right;\">\n",
              "      <th></th>\n",
              "      <th>PassengerId</th>\n",
              "      <th>Survived</th>\n",
              "      <th>Pclass</th>\n",
              "      <th>Age</th>\n",
              "      <th>SibSp</th>\n",
              "      <th>Parch</th>\n",
              "      <th>Fare</th>\n",
              "    </tr>\n",
              "  </thead>\n",
              "  <tbody>\n",
              "    <tr>\n",
              "      <th>count</th>\n",
              "      <td>891.000000</td>\n",
              "      <td>891.000000</td>\n",
              "      <td>891.000000</td>\n",
              "      <td>714.000000</td>\n",
              "      <td>891.000000</td>\n",
              "      <td>891.000000</td>\n",
              "      <td>891.000000</td>\n",
              "    </tr>\n",
              "    <tr>\n",
              "      <th>mean</th>\n",
              "      <td>446.000000</td>\n",
              "      <td>0.383838</td>\n",
              "      <td>2.308642</td>\n",
              "      <td>29.699118</td>\n",
              "      <td>0.523008</td>\n",
              "      <td>0.381594</td>\n",
              "      <td>32.204208</td>\n",
              "    </tr>\n",
              "    <tr>\n",
              "      <th>std</th>\n",
              "      <td>257.353842</td>\n",
              "      <td>0.486592</td>\n",
              "      <td>0.836071</td>\n",
              "      <td>14.526497</td>\n",
              "      <td>1.102743</td>\n",
              "      <td>0.806057</td>\n",
              "      <td>49.693429</td>\n",
              "    </tr>\n",
              "    <tr>\n",
              "      <th>min</th>\n",
              "      <td>1.000000</td>\n",
              "      <td>0.000000</td>\n",
              "      <td>1.000000</td>\n",
              "      <td>0.420000</td>\n",
              "      <td>0.000000</td>\n",
              "      <td>0.000000</td>\n",
              "      <td>0.000000</td>\n",
              "    </tr>\n",
              "    <tr>\n",
              "      <th>25%</th>\n",
              "      <td>223.500000</td>\n",
              "      <td>0.000000</td>\n",
              "      <td>2.000000</td>\n",
              "      <td>20.125000</td>\n",
              "      <td>0.000000</td>\n",
              "      <td>0.000000</td>\n",
              "      <td>7.910400</td>\n",
              "    </tr>\n",
              "    <tr>\n",
              "      <th>50%</th>\n",
              "      <td>446.000000</td>\n",
              "      <td>0.000000</td>\n",
              "      <td>3.000000</td>\n",
              "      <td>28.000000</td>\n",
              "      <td>0.000000</td>\n",
              "      <td>0.000000</td>\n",
              "      <td>14.454200</td>\n",
              "    </tr>\n",
              "    <tr>\n",
              "      <th>75%</th>\n",
              "      <td>668.500000</td>\n",
              "      <td>1.000000</td>\n",
              "      <td>3.000000</td>\n",
              "      <td>38.000000</td>\n",
              "      <td>1.000000</td>\n",
              "      <td>0.000000</td>\n",
              "      <td>31.000000</td>\n",
              "    </tr>\n",
              "    <tr>\n",
              "      <th>max</th>\n",
              "      <td>891.000000</td>\n",
              "      <td>1.000000</td>\n",
              "      <td>3.000000</td>\n",
              "      <td>80.000000</td>\n",
              "      <td>8.000000</td>\n",
              "      <td>6.000000</td>\n",
              "      <td>512.329200</td>\n",
              "    </tr>\n",
              "  </tbody>\n",
              "</table>\n",
              "</div>"
            ],
            "text/plain": [
              "       PassengerId    Survived      Pclass  ...       SibSp       Parch        Fare\n",
              "count   891.000000  891.000000  891.000000  ...  891.000000  891.000000  891.000000\n",
              "mean    446.000000    0.383838    2.308642  ...    0.523008    0.381594   32.204208\n",
              "std     257.353842    0.486592    0.836071  ...    1.102743    0.806057   49.693429\n",
              "min       1.000000    0.000000    1.000000  ...    0.000000    0.000000    0.000000\n",
              "25%     223.500000    0.000000    2.000000  ...    0.000000    0.000000    7.910400\n",
              "50%     446.000000    0.000000    3.000000  ...    0.000000    0.000000   14.454200\n",
              "75%     668.500000    1.000000    3.000000  ...    1.000000    0.000000   31.000000\n",
              "max     891.000000    1.000000    3.000000  ...    8.000000    6.000000  512.329200\n",
              "\n",
              "[8 rows x 7 columns]"
            ]
          },
          "metadata": {
            "tags": []
          },
          "execution_count": 5
        }
      ]
    },
    {
      "cell_type": "markdown",
      "metadata": {
        "id": "8JZHlJ-He-AP"
      },
      "source": [
        "- Total samples are 891 or 40% of the actual number of passengers on board the Titanic (2,224).\n",
        "- Around 38% samples survived representative of the actual survival rate at 32%.\n",
        "- Most passengers (> 75%) did not travel with parents or children.\n",
        "- At least 25% of the passengers had siblings and/or spouse aboard.\n",
        "- Fares varied significantly with few passengers paying as high as 512. (I am not sure if prizes are in USD or British pounds.)"
      ]
    },
    {
      "cell_type": "markdown",
      "metadata": {
        "id": "38Fo0Bi8hctO"
      },
      "source": [
        "#### What is the distribution of categorical features?"
      ]
    },
    {
      "cell_type": "code",
      "metadata": {
        "id": "zRLH6qNFhcBk",
        "colab": {
          "base_uri": "https://localhost:8080/",
          "height": 166
        },
        "outputId": "5b721ba2-f8d3-4671-d965-8b39ed2cf9ab"
      },
      "source": [
        "train_df.describe(include=['O'])"
      ],
      "execution_count": 6,
      "outputs": [
        {
          "output_type": "execute_result",
          "data": {
            "text/html": [
              "<div>\n",
              "<style scoped>\n",
              "    .dataframe tbody tr th:only-of-type {\n",
              "        vertical-align: middle;\n",
              "    }\n",
              "\n",
              "    .dataframe tbody tr th {\n",
              "        vertical-align: top;\n",
              "    }\n",
              "\n",
              "    .dataframe thead th {\n",
              "        text-align: right;\n",
              "    }\n",
              "</style>\n",
              "<table border=\"1\" class=\"dataframe\">\n",
              "  <thead>\n",
              "    <tr style=\"text-align: right;\">\n",
              "      <th></th>\n",
              "      <th>Name</th>\n",
              "      <th>Sex</th>\n",
              "      <th>Ticket</th>\n",
              "      <th>Cabin</th>\n",
              "      <th>Embarked</th>\n",
              "    </tr>\n",
              "  </thead>\n",
              "  <tbody>\n",
              "    <tr>\n",
              "      <th>count</th>\n",
              "      <td>891</td>\n",
              "      <td>891</td>\n",
              "      <td>891</td>\n",
              "      <td>204</td>\n",
              "      <td>889</td>\n",
              "    </tr>\n",
              "    <tr>\n",
              "      <th>unique</th>\n",
              "      <td>891</td>\n",
              "      <td>2</td>\n",
              "      <td>681</td>\n",
              "      <td>147</td>\n",
              "      <td>3</td>\n",
              "    </tr>\n",
              "    <tr>\n",
              "      <th>top</th>\n",
              "      <td>Leyson, Mr. Robert William Norman</td>\n",
              "      <td>male</td>\n",
              "      <td>1601</td>\n",
              "      <td>B96 B98</td>\n",
              "      <td>S</td>\n",
              "    </tr>\n",
              "    <tr>\n",
              "      <th>freq</th>\n",
              "      <td>1</td>\n",
              "      <td>577</td>\n",
              "      <td>7</td>\n",
              "      <td>4</td>\n",
              "      <td>644</td>\n",
              "    </tr>\n",
              "  </tbody>\n",
              "</table>\n",
              "</div>"
            ],
            "text/plain": [
              "                                     Name   Sex Ticket    Cabin Embarked\n",
              "count                                 891   891    891      204      889\n",
              "unique                                891     2    681      147        3\n",
              "top     Leyson, Mr. Robert William Norman  male   1601  B96 B98        S\n",
              "freq                                    1   577      7        4      644"
            ]
          },
          "metadata": {
            "tags": []
          },
          "execution_count": 6
        }
      ]
    },
    {
      "cell_type": "markdown",
      "metadata": {
        "id": "yZYhqVXeh8ss"
      },
      "source": [
        "\n",
        "- Names are unique across the dataset (count=unique=891)\n",
        "- Sex variable as two possible values with 65% male (top=male, freq=577/count=891).\n",
        "- Cabin values have several duplicates across samples. Alternatively several passengers shared a cabin.\n",
        "- Embarked takes three possible values. S port used by most passengers (top=S)\n",
        "- Ticket feature has high ratio (22%) of duplicate values (unique=681)."
      ]
    },
    {
      "cell_type": "markdown",
      "metadata": {
        "id": "KikHsLTCi7XJ"
      },
      "source": [
        "### Initial assumptions based on data analysis so far"
      ]
    },
    {
      "cell_type": "markdown",
      "metadata": {
        "id": "TDyM7MpfjHMl"
      },
      "source": [
        "\n",
        "**Correlating**\n",
        "\n",
        "We want to know how well does each feature correlate with Survival. We want to do this early in our project and match these quick correlations with modelled correlations later in the project to check if our model is reasonable.\n",
        "\n",
        "**Completing**\n",
        "\n",
        "1. The Age feature needs completing because it is definitely correlated to survival.\n",
        "2. The Embarked feature  may also needs completing because it might correlate with survival or other features. For example if from one port came in mostly 1st class passengers then it would show up.\n",
        "\n",
        "**Correcting**\n",
        "\n",
        "1. The Ticket feature will be dropped from analysis as it contains high ratio of duplicates (22%) and there may not be a correlation between Ticket and survival. And as a mixed type feature (contains both letters and numbers) quite difficult to handle.\n",
        "2. Cabin feature may be dropped as it is highly incomplete or contains many null values both in training and test dataset.\n",
        "3. PassengerId may be dropped from training dataset as it does not contribute to survival.\n",
        "4. Name feature is relatively non-standard, may not contribute directly to survival, so maybe dropped.\n",
        "\n",
        "**Creating**\n",
        "\n",
        "1. It might be good idea to create a new feature called Family based on Parch and SibSp to get total count of family members on board.\n",
        "\n",
        "\n",
        "**Classifying**\n",
        "\n",
        "Based on the problem description noted earlier and before hand knowledge we have these assumptions.\n",
        "\n",
        "1. Women (Sex=female) were more likely to have survived.\n",
        "2. Children (Age<?) were more likely to have survived. \n",
        "3. The upper-class passengers (Pclass=1) were more likely to have survived."
      ]
    },
    {
      "cell_type": "markdown",
      "metadata": {
        "id": "mz1MWZZvputQ"
      },
      "source": [
        "### Pclass"
      ]
    },
    {
      "cell_type": "markdown",
      "metadata": {
        "id": "iVv1WkfhDc0w"
      },
      "source": [
        ""
      ]
    },
    {
      "cell_type": "code",
      "metadata": {
        "id": "AB7BAm4dp1Ej",
        "colab": {
          "base_uri": "https://localhost:8080/",
          "height": 383
        },
        "outputId": "0427bf2b-64b6-4a9a-f1a4-64bcb6efee07"
      },
      "source": [
        "sb.catplot(x = \"Survived\", col = \"Pclass\", col_wrap = 3, data = train_df, kind = \"count\")\n",
        "plt.show();"
      ],
      "execution_count": 10,
      "outputs": [
        {
          "output_type": "display_data",
          "data": {
            "image/png": "[encoded data removed]",
            "text/plain": [
              "<Figure size 1080x360 with 3 Axes>"
            ]
          },
          "metadata": {
            "tags": [],
            "needs_background": "light"
          }
        }
      ]
    },
    {
      "cell_type": "markdown",
      "metadata": {
        "id": "720jZMf7s3zR"
      },
      "source": [
        "Seems that in the 1st class over 50 % survived. In the 2nd class just below 50 % survived and if you were a passenger in the 3rd class you have the smallest change of surviving. So the Pclass absolutely effects whether you survive or not."
      ]
    },
    {
      "cell_type": "markdown",
      "metadata": {
        "id": "HRkNZm8hmXLe"
      },
      "source": [
        "### Sex"
      ]
    },
    {
      "cell_type": "code",
      "metadata": {
        "id": "PaBiElmLmjTQ",
        "colab": {
          "base_uri": "https://localhost:8080/"
        },
        "outputId": "a5398a2a-6419-4869-f8fb-41644ec34095"
      },
      "source": [
        "train_df[['Sex']].value_counts()"
      ],
      "execution_count": 11,
      "outputs": [
        {
          "output_type": "execute_result",
          "data": {
            "text/plain": [
              "Sex   \n",
              "male      577\n",
              "female    314\n",
              "dtype: int64"
            ]
          },
          "metadata": {
            "tags": []
          },
          "execution_count": 11
        }
      ]
    },
    {
      "cell_type": "code",
      "metadata": {
        "id": "r-MhBNdRmuTv",
        "colab": {
          "base_uri": "https://localhost:8080/"
        },
        "outputId": "c20f67dc-a96f-4a84-bd52-6c34058ea013"
      },
      "source": [
        "women = train_df[train_df.Sex == 'female']['Survived']\n",
        "men = train_df[train_df.Sex == 'male']['Survived']\n",
        "print(\"From women \" + str(round(women.sum()*100/women.count(),2)) + \" % survived.\")\n",
        "print(\"From men \" + str(round(men.sum()*100/men.count(),2)) + \" % survived.\")"
      ],
      "execution_count": 12,
      "outputs": [
        {
          "output_type": "stream",
          "text": [
            "From women 74.2 % survived.\n",
            "From men 18.89 % survived.\n"
          ],
          "name": "stdout"
        }
      ]
    },
    {
      "cell_type": "markdown",
      "metadata": {
        "id": "f6Qzx0aXnoT8"
      },
      "source": [
        "Interesting to see that most of the women survived whereas most of the men did not. Was it like in that Titanic movie that heroic males make sure that their beloved ones survive?\n",
        "\n",
        "Let just for curiosity reasons see does this differ from passenger class to other."
      ]
    },
    {
      "cell_type": "code",
      "metadata": {
        "id": "O6cTuH9fn6p7",
        "colab": {
          "base_uri": "https://localhost:8080/"
        },
        "outputId": "28bfa8fa-4e1c-470a-ef60-1f9340e64227"
      },
      "source": [
        "women_class1 = train_df[(train_df.Sex == 'female') & (train_df.Pclass == 1)]['Survived']\n",
        "women_class2 = train_df[(train_df.Sex == 'female') & (train_df.Pclass == 2)]['Survived']\n",
        "women_class3 = train_df[(train_df.Sex == 'female') & (train_df.Pclass == 3)]['Survived']\n",
        "\n",
        "print( \"In passenger class 1 where \" + str(round(women_class1.count()*100/women.count(),2)) + \" % of women.\")\n",
        "print( \"In passenger class 2 where \" + str(round(women_class2.count()*100/women.count(),2)) + \" % of women.\")\n",
        "print( \"In passenger class 3 where \" + str(round(women_class3.count()*100/women.count(),2)) + \" % of women.\")\n",
        "print(\"\\n\")\n",
        "print(\"In passenger class 1 \" + str(round(women_class1.sum()*100/women_class1.count(), 2)) + \" % of its women survived.\"  )\n",
        "print(\"In passenger class 2 \" + str(round(women_class2.sum()*100/women_class2.count(), 2)) + \" % of its women survived.\"  )\n",
        "print(\"In passenger class 3 \" + str(round(women_class3.sum()*100/women_class3.count(), 2)) + \" % of its women survived.\"  )"
      ],
      "execution_count": 14,
      "outputs": [
        {
          "output_type": "stream",
          "text": [
            "In passenger class 1 where 29.94 % of women.\n",
            "In passenger class 2 where 24.2 % of women.\n",
            "In passenger class 3 where 45.86 % of women.\n",
            "\n",
            "\n",
            "In passenger class 1 96.81 % of its women survived.\n",
            "In passenger class 2 92.11 % of its women survived.\n",
            "In passenger class 3 50.0 % of its women survived.\n"
          ],
          "name": "stdout"
        }
      ]
    },
    {
      "cell_type": "markdown",
      "metadata": {
        "id": "qYLhX0bFp5P8"
      },
      "source": [
        "It seems that in passenger classes 1 and 2 the males made sure that the women survived. And for the women in passenger class 3 it really wasn't that easy. Anyway sex is also a variable that effects whether you survived or not."
      ]
    },
    {
      "cell_type": "markdown",
      "metadata": {
        "id": "EsNxBMZlldEO"
      },
      "source": [
        "### Age"
      ]
    },
    {
      "cell_type": "markdown",
      "metadata": {
        "id": "ytx2rNaPtvtp"
      },
      "source": [
        "\n",
        "The age information is missing from 177 passangers. I would think that age is significant contributor for surviving. Let see different age groups in more detail. "
      ]
    },
    {
      "cell_type": "code",
      "metadata": {
        "id": "gdVTAAykuqyV",
        "colab": {
          "base_uri": "https://localhost:8080/",
          "height": 550
        },
        "outputId": "166eac72-9180-435b-a913-a7a0bdefa052"
      },
      "source": [
        "age_groups = []\n",
        "\n",
        "for i in range(1,16):\n",
        "  age_groups.append(str(i*5+1) + ' - ' + str(i*5+5) + ' years')\n",
        "age_study = pd.DataFrame(index = age_groups)\n",
        "age_study['Frequency'] = [train_df[(train_df.Age < (i*5+6)) & (train_df.Age >= (i*5+1))]['Age'].size for i in range(1,16)]\n",
        "age_study['Frequency %'] = round(age_study['Frequency']*100/891, 2)\n",
        "age_study['Survived'] = [train_df[(train_df.Age < (i*5+6)) & (train_df.Age >= (i*5+1))]['Survived'].sum() for i in range(1,16)]\n",
        "age_study['Survived %'] = round(age_study['Survived']*100/age_study['Frequency'],2)\n",
        "\n",
        "age_smallchilds = pd.DataFrame(index = ['0 - 5 years'])\n",
        "age_smallchilds['Frequency'] = [train_df[train_df.Age < 6]['Age'].size]\n",
        "age_smallchilds['Frequency %'] = round(age_smallchilds['Frequency']*100/891, 2)\n",
        "age_smallchilds['Survived'] = [train_df[train_df.Age < 6]['Survived'].sum()]\n",
        "age_smallchilds['Survived %'] = round(age_smallchilds['Survived']*100/age_smallchilds['Frequency'],2)\n",
        "\n",
        "no_age = pd.DataFrame(index = ['No Age Info'])\n",
        "no_age['Frequency'] = [train_df[train_df.Age.isna()]['Age'].size]\n",
        "no_age['Frequency %'] = round(no_age['Frequency']*100/891, 2)\n",
        "no_age['Survived'] = [train_df[train_df.Age.isna()]['Survived'].sum()]\n",
        "no_age['Survived %'] = round(no_age['Survived']*100/no_age['Frequency'],2)\n",
        "\n",
        "age_study = pd.concat([age_smallchilds, age_study, no_age])\n",
        "age_study"
      ],
      "execution_count": 15,
      "outputs": [
        {
          "output_type": "execute_result",
          "data": {
            "text/html": [
              "<div>\n",
              "<style scoped>\n",
              "    .dataframe tbody tr th:only-of-type {\n",
              "        vertical-align: middle;\n",
              "    }\n",
              "\n",
              "    .dataframe tbody tr th {\n",
              "        vertical-align: top;\n",
              "    }\n",
              "\n",
              "    .dataframe thead th {\n",
              "        text-align: right;\n",
              "    }\n",
              "</style>\n",
              "<table border=\"1\" class=\"dataframe\">\n",
              "  <thead>\n",
              "    <tr style=\"text-align: right;\">\n",
              "      <th></th>\n",
              "      <th>Frequency</th>\n",
              "      <th>Frequency %</th>\n",
              "      <th>Survived</th>\n",
              "      <th>Survived %</th>\n",
              "    </tr>\n",
              "  </thead>\n",
              "  <tbody>\n",
              "    <tr>\n",
              "      <th>0 - 5 years</th>\n",
              "      <td>44</td>\n",
              "      <td>4.94</td>\n",
              "      <td>31</td>\n",
              "      <td>70.45</td>\n",
              "    </tr>\n",
              "    <tr>\n",
              "      <th>6 - 10 years</th>\n",
              "      <td>20</td>\n",
              "      <td>2.24</td>\n",
              "      <td>7</td>\n",
              "      <td>35.00</td>\n",
              "    </tr>\n",
              "    <tr>\n",
              "      <th>11 - 15 years</th>\n",
              "      <td>19</td>\n",
              "      <td>2.13</td>\n",
              "      <td>11</td>\n",
              "      <td>57.89</td>\n",
              "    </tr>\n",
              "    <tr>\n",
              "      <th>16 - 20 years</th>\n",
              "      <td>97</td>\n",
              "      <td>10.89</td>\n",
              "      <td>33</td>\n",
              "      <td>34.02</td>\n",
              "    </tr>\n",
              "    <tr>\n",
              "      <th>21 - 25 years</th>\n",
              "      <td>121</td>\n",
              "      <td>13.58</td>\n",
              "      <td>42</td>\n",
              "      <td>34.71</td>\n",
              "    </tr>\n",
              "    <tr>\n",
              "      <th>26 - 30 years</th>\n",
              "      <td>110</td>\n",
              "      <td>12.35</td>\n",
              "      <td>42</td>\n",
              "      <td>38.18</td>\n",
              "    </tr>\n",
              "    <tr>\n",
              "      <th>31 - 35 years</th>\n",
              "      <td>86</td>\n",
              "      <td>9.65</td>\n",
              "      <td>41</td>\n",
              "      <td>47.67</td>\n",
              "    </tr>\n",
              "    <tr>\n",
              "      <th>36 - 40 years</th>\n",
              "      <td>69</td>\n",
              "      <td>7.74</td>\n",
              "      <td>28</td>\n",
              "      <td>40.58</td>\n",
              "    </tr>\n",
              "    <tr>\n",
              "      <th>41 - 45 years</th>\n",
              "      <td>47</td>\n",
              "      <td>5.27</td>\n",
              "      <td>17</td>\n",
              "      <td>36.17</td>\n",
              "    </tr>\n",
              "    <tr>\n",
              "      <th>46 - 50 years</th>\n",
              "      <td>37</td>\n",
              "      <td>4.15</td>\n",
              "      <td>16</td>\n",
              "      <td>43.24</td>\n",
              "    </tr>\n",
              "    <tr>\n",
              "      <th>51 - 55 years</th>\n",
              "      <td>25</td>\n",
              "      <td>2.81</td>\n",
              "      <td>10</td>\n",
              "      <td>40.00</td>\n",
              "    </tr>\n",
              "    <tr>\n",
              "      <th>56 - 60 years</th>\n",
              "      <td>17</td>\n",
              "      <td>1.91</td>\n",
              "      <td>7</td>\n",
              "      <td>41.18</td>\n",
              "    </tr>\n",
              "    <tr>\n",
              "      <th>61 - 65 years</th>\n",
              "      <td>14</td>\n",
              "      <td>1.57</td>\n",
              "      <td>4</td>\n",
              "      <td>28.57</td>\n",
              "    </tr>\n",
              "    <tr>\n",
              "      <th>66 - 70 years</th>\n",
              "      <td>4</td>\n",
              "      <td>0.45</td>\n",
              "      <td>0</td>\n",
              "      <td>0.00</td>\n",
              "    </tr>\n",
              "    <tr>\n",
              "      <th>71 - 75 years</th>\n",
              "      <td>3</td>\n",
              "      <td>0.34</td>\n",
              "      <td>0</td>\n",
              "      <td>0.00</td>\n",
              "    </tr>\n",
              "    <tr>\n",
              "      <th>76 - 80 years</th>\n",
              "      <td>1</td>\n",
              "      <td>0.11</td>\n",
              "      <td>1</td>\n",
              "      <td>100.00</td>\n",
              "    </tr>\n",
              "    <tr>\n",
              "      <th>No Age Info</th>\n",
              "      <td>177</td>\n",
              "      <td>19.87</td>\n",
              "      <td>52</td>\n",
              "      <td>29.38</td>\n",
              "    </tr>\n",
              "  </tbody>\n",
              "</table>\n",
              "</div>"
            ],
            "text/plain": [
              "               Frequency  Frequency %  Survived  Survived %\n",
              "0 - 5 years           44         4.94        31       70.45\n",
              "6 - 10 years          20         2.24         7       35.00\n",
              "11 - 15 years         19         2.13        11       57.89\n",
              "16 - 20 years         97        10.89        33       34.02\n",
              "21 - 25 years        121        13.58        42       34.71\n",
              "26 - 30 years        110        12.35        42       38.18\n",
              "31 - 35 years         86         9.65        41       47.67\n",
              "36 - 40 years         69         7.74        28       40.58\n",
              "41 - 45 years         47         5.27        17       36.17\n",
              "46 - 50 years         37         4.15        16       43.24\n",
              "51 - 55 years         25         2.81        10       40.00\n",
              "56 - 60 years         17         1.91         7       41.18\n",
              "61 - 65 years         14         1.57         4       28.57\n",
              "66 - 70 years          4         0.45         0        0.00\n",
              "71 - 75 years          3         0.34         0        0.00\n",
              "76 - 80 years          1         0.11         1      100.00\n",
              "No Age Info          177        19.87        52       29.38"
            ]
          },
          "metadata": {
            "tags": []
          },
          "execution_count": 15
        }
      ]
    },
    {
      "cell_type": "code",
      "metadata": {
        "id": "d8O9fZ6hjRZj",
        "colab": {
          "base_uri": "https://localhost:8080/"
        },
        "outputId": "bb01837c-3dc0-4cca-d259-7715935d6536"
      },
      "source": [
        "age_study[['Frequency']].sum() # Checking that all dataset entries got counted."
      ],
      "execution_count": 16,
      "outputs": [
        {
          "output_type": "execute_result",
          "data": {
            "text/plain": [
              "Frequency    891\n",
              "dtype: int64"
            ]
          },
          "metadata": {
            "tags": []
          },
          "execution_count": 16
        }
      ]
    },
    {
      "cell_type": "markdown",
      "metadata": {
        "id": "Ip_JEDcluSs2"
      },
      "source": [
        "It seems that the oldest passanger survived (outlier that I think is best to remove when the model is being constructed) and also the very young children were helped so that they will survive. So age is also a variable that effects to the surviving.\n",
        "\n",
        "The group of people for which there is not age information is quite large. These need to be corrected with care. I think since the age is quite close to the normal distribution, the filling values should also be varying like normal distribution."
      ]
    },
    {
      "cell_type": "markdown",
      "metadata": {
        "id": "6cejvttjvNGM"
      },
      "source": [
        "### SibSp (number of siblings or spouses aboard) "
      ]
    },
    {
      "cell_type": "code",
      "metadata": {
        "id": "ES9ivKa9wgC8",
        "colab": {
          "base_uri": "https://localhost:8080/"
        },
        "outputId": "015e7e6a-6049-40f0-f993-7894ce048954"
      },
      "source": [
        "train_df[['SibSp']].value_counts()"
      ],
      "execution_count": 17,
      "outputs": [
        {
          "output_type": "execute_result",
          "data": {
            "text/plain": [
              "SibSp\n",
              "0        608\n",
              "1        209\n",
              "2         28\n",
              "4         18\n",
              "3         16\n",
              "8          7\n",
              "5          5\n",
              "dtype: int64"
            ]
          },
          "metadata": {
            "tags": []
          },
          "execution_count": 17
        }
      ]
    },
    {
      "cell_type": "code",
      "metadata": {
        "id": "ARr2XQwHva8d",
        "colab": {
          "base_uri": "https://localhost:8080/"
        },
        "outputId": "c050bb42-dd8f-414d-efe9-22b907732fcf"
      },
      "source": [
        "for i in range(9):\n",
        "    alives = len(train_df[(train_df['SibSp'] == i) & (train_df['Survived'] == 1)])\n",
        "    deads = len(train_df[(train_df['SibSp'] == i) & (train_df['Survived'] == 0)])\n",
        "    if deads + alives != 0:\n",
        "      survival_rate = round(alives*100/(alives + deads), 2)\n",
        "    else:\n",
        "      survival_rate = \"No passengers with this SibSp\"\n",
        "    print(f\"SibSp = {i}: Survived {alives}, Died {deads}, Survival rate : {survival_rate} %\")"
      ],
      "execution_count": 18,
      "outputs": [
        {
          "output_type": "stream",
          "text": [
            "SibSp = 0: Survived 210, Died 398, Survival rate : 34.54 %\n",
            "SibSp = 1: Survived 112, Died 97, Survival rate : 53.59 %\n",
            "SibSp = 2: Survived 13, Died 15, Survival rate : 46.43 %\n",
            "SibSp = 3: Survived 4, Died 12, Survival rate : 25.0 %\n",
            "SibSp = 4: Survived 3, Died 15, Survival rate : 16.67 %\n",
            "SibSp = 5: Survived 0, Died 5, Survival rate : 0.0 %\n",
            "SibSp = 6: Survived 0, Died 0, Survival rate : No passengers with this SibSp %\n",
            "SibSp = 7: Survived 0, Died 0, Survival rate : No passengers with this SibSp %\n",
            "SibSp = 8: Survived 0, Died 7, Survival rate : 0.0 %\n"
          ],
          "name": "stdout"
        }
      ]
    },
    {
      "cell_type": "markdown",
      "metadata": {
        "id": "Cqx9QMuwymvx"
      },
      "source": [
        "This value seems also effecting the survival rate."
      ]
    },
    {
      "cell_type": "markdown",
      "metadata": {
        "id": "b3BhfI06ywfE"
      },
      "source": [
        "### Parch (number of parents or children aboard)\n",
        "So other number looking for the family size."
      ]
    },
    {
      "cell_type": "code",
      "metadata": {
        "id": "TPvF50bvzMWC",
        "colab": {
          "base_uri": "https://localhost:8080/"
        },
        "outputId": "80c07dd3-563f-4889-946b-5fc901d5d792"
      },
      "source": [
        "train_df[['Parch']].value_counts()"
      ],
      "execution_count": 19,
      "outputs": [
        {
          "output_type": "execute_result",
          "data": {
            "text/plain": [
              "Parch\n",
              "0        678\n",
              "1        118\n",
              "2         80\n",
              "5          5\n",
              "3          5\n",
              "4          4\n",
              "6          1\n",
              "dtype: int64"
            ]
          },
          "metadata": {
            "tags": []
          },
          "execution_count": 19
        }
      ]
    },
    {
      "cell_type": "code",
      "metadata": {
        "id": "0L1v_ECIzX0r",
        "colab": {
          "base_uri": "https://localhost:8080/"
        },
        "outputId": "5dfbd70b-8d13-4d60-bede-b5648354d4ed"
      },
      "source": [
        "for i in range(7):\n",
        "    alives = len(train_df[(train_df['Parch'] == i) & (train_df['Survived'] == 1)])\n",
        "    deads = len(train_df[(train_df['Parch'] == i) & (train_df['Survived'] == 0)])\n",
        "    if deads + alives != 0:\n",
        "      survival_rate = round(alives*100/(alives + deads), 2)\n",
        "    else:\n",
        "      survival_rate = \"No passengers with this Parch\"\n",
        "    print(f\"Parch = {i}: Survived {alives}, Died {deads}, Survival rate : {survival_rate} %\")"
      ],
      "execution_count": 21,
      "outputs": [
        {
          "output_type": "stream",
          "text": [
            "Parch = 0: Survived 233, Died 445, Survival rate : 34.37 %\n",
            "Parch = 1: Survived 65, Died 53, Survival rate : 55.08 %\n",
            "Parch = 2: Survived 40, Died 40, Survival rate : 50.0 %\n",
            "Parch = 3: Survived 3, Died 2, Survival rate : 60.0 %\n",
            "Parch = 4: Survived 0, Died 4, Survival rate : 0.0 %\n",
            "Parch = 5: Survived 1, Died 4, Survival rate : 20.0 %\n",
            "Parch = 6: Survived 0, Died 1, Survival rate : 0.0 %\n"
          ],
          "name": "stdout"
        }
      ]
    },
    {
      "cell_type": "markdown",
      "metadata": {
        "id": "5fyGuzx5zLPD"
      },
      "source": [
        "It seems also effecting the surviving. Without parents or children you were more likely to die."
      ]
    },
    {
      "cell_type": "markdown",
      "metadata": {
        "id": "3NInwvHez3Dz"
      },
      "source": [
        "### Fare"
      ]
    },
    {
      "cell_type": "code",
      "metadata": {
        "id": "AQ9BKFUD5gVY",
        "colab": {
          "base_uri": "https://localhost:8080/",
          "height": 312
        },
        "outputId": "bfb44527-e2a8-4a53-8503-c19a7cedba52"
      },
      "source": [
        "plt.hist(x = [train_df[train_df['Survived']==1]['Fare'], train_df[train_df['Survived']==0]['Fare']], \n",
        "         stacked=True, color = ['g','r'],label = ['Survived','Dead'], bins = 100)\n",
        "plt.title('Fare Histogram by Survival')\n",
        "plt.xlabel('Fare')\n",
        "plt.ylabel('# of Passengers')\n",
        "plt.legend()"
      ],
      "execution_count": 22,
      "outputs": [
        {
          "output_type": "execute_result",
          "data": {
            "text/plain": [
              "<matplotlib.legend.Legend at 0x7f3384d76dd8>"
            ]
          },
          "metadata": {
            "tags": []
          },
          "execution_count": 22
        },
        {
          "output_type": "display_data",
          "data": {
            "image/png": "[encoded data removed]",
            "text/plain": [
              "<Figure size 432x288 with 1 Axes>"
            ]
          },
          "metadata": {
            "tags": [],
            "needs_background": "light"
          }
        }
      ]
    },
    {
      "cell_type": "code",
      "metadata": {
        "id": "5eRjpt1M-Vuj",
        "colab": {
          "base_uri": "https://localhost:8080/",
          "height": 312
        },
        "outputId": "b24a9f76-fd6c-4196-bea6-6d58be057463"
      },
      "source": [
        "plt.hist(x = [train_df[train_df['Survived']==1]['Fare'], train_df[train_df['Survived']==0]['Fare']], \n",
        "         stacked=True, color = ['g','r'],label = ['Survived','Dead'], bins = 100)\n",
        "plt.title('Fare Histogram by Survival')\n",
        "plt.xlabel('Fare')\n",
        "plt.ylabel('# of Passengers')\n",
        "plt.xlim(left = 0, right = 50)\n",
        "plt.legend()"
      ],
      "execution_count": 23,
      "outputs": [
        {
          "output_type": "execute_result",
          "data": {
            "text/plain": [
              "<matplotlib.legend.Legend at 0x7f3381cfbac8>"
            ]
          },
          "metadata": {
            "tags": []
          },
          "execution_count": 23
        },
        {
          "output_type": "display_data",
          "data": {
            "image/png": "[encoded data removed]",
            "text/plain": [
              "<Figure size 432x288 with 1 Axes>"
            ]
          },
          "metadata": {
            "tags": [],
            "needs_background": "light"
          }
        }
      ]
    },
    {
      "cell_type": "code",
      "metadata": {
        "id": "ndjAY_lm-tT9",
        "colab": {
          "base_uri": "https://localhost:8080/",
          "height": 312
        },
        "outputId": "a0fe2d75-9efb-45c4-f51a-71ec0d2d9f5f"
      },
      "source": [
        "plt.hist(x = [train_df[train_df['Survived']==1]['Fare'], train_df[train_df['Survived']==0]['Fare']], \n",
        "         stacked=True, color = ['g','r'],label = ['Survived','Dead'], bins = 100)\n",
        "plt.title('Fare Histogram by Survival')\n",
        "plt.xlabel('Fare')\n",
        "plt.ylabel('# of Passengers')\n",
        "plt.xlim(left = 50, right = 100)\n",
        "plt.ylim(top = 50)\n",
        "plt.legend()"
      ],
      "execution_count": 24,
      "outputs": [
        {
          "output_type": "execute_result",
          "data": {
            "text/plain": [
              "<matplotlib.legend.Legend at 0x7f3381e79b00>"
            ]
          },
          "metadata": {
            "tags": []
          },
          "execution_count": 24
        },
        {
          "output_type": "display_data",
          "data": {
            "image/png": "[encoded data removed]",
            "text/plain": [
              "<Figure size 432x288 with 1 Axes>"
            ]
          },
          "metadata": {
            "tags": [],
            "needs_background": "light"
          }
        }
      ]
    },
    {
      "cell_type": "code",
      "metadata": {
        "id": "tqQPwrnf_Dgm",
        "colab": {
          "base_uri": "https://localhost:8080/",
          "height": 312
        },
        "outputId": "52760f91-61ea-4538-e62d-bf16b02fd74d"
      },
      "source": [
        "plt.hist(x = [train_df[train_df['Survived']==1]['Fare'], train_df[train_df['Survived']==0]['Fare']], \n",
        "         stacked=True, color = ['g','r'],label = ['Survived','Dead'], bins = 100)\n",
        "plt.title('Fare Histogram by Survival')\n",
        "plt.xlabel('Fare')\n",
        "plt.ylabel('# of Passengers')\n",
        "plt.xlim(left = 100)\n",
        "plt.ylim(top=30)\n",
        "plt.legend()"
      ],
      "execution_count": 25,
      "outputs": [
        {
          "output_type": "execute_result",
          "data": {
            "text/plain": [
              "<matplotlib.legend.Legend at 0x7f338187f0b8>"
            ]
          },
          "metadata": {
            "tags": []
          },
          "execution_count": 25
        },
        {
          "output_type": "display_data",
          "data": {
            "image/png": "[encoded data removed]",
            "text/plain": [
              "<Figure size 432x288 with 1 Axes>"
            ]
          },
          "metadata": {
            "tags": [],
            "needs_background": "light"
          }
        }
      ]
    },
    {
      "cell_type": "markdown",
      "metadata": {
        "id": "pEgR2kYj02ii"
      },
      "source": [
        "It seems that if the ticket price is over 50 then you were more likely to survive. And top of that there are 3 who had paid over 500 for their tickets. Probably they had a some kind fancier suite."
      ]
    },
    {
      "cell_type": "markdown",
      "metadata": {
        "id": "5X9dXWgs2F_M"
      },
      "source": [
        "### Cabin\n",
        "This in formation is available only for 204 passengers so I will ignore it. "
      ]
    },
    {
      "cell_type": "markdown",
      "metadata": {
        "id": "4psd4ch917au"
      },
      "source": [
        "### Embarked\n",
        "C = Cherbourg, Q = Queenstown, S = Southampton"
      ]
    },
    {
      "cell_type": "code",
      "metadata": {
        "id": "IkcGkObJ2EWr",
        "colab": {
          "base_uri": "https://localhost:8080/",
          "height": 383
        },
        "outputId": "d95017a6-e9dc-4512-84e5-1d1094c128c2"
      },
      "source": [
        "sb.catplot(x = \"Survived\", col = \"Embarked\", col_wrap = 3, data = train_df, kind = \"count\")\n",
        "plt.show();"
      ],
      "execution_count": 26,
      "outputs": [
        {
          "output_type": "display_data",
          "data": {
            "image/png": "[encoded data removed]",
            "text/plain": [
              "<Figure size 1080x360 with 3 Axes>"
            ]
          },
          "metadata": {
            "tags": [],
            "needs_background": "light"
          }
        }
      ]
    },
    {
      "cell_type": "markdown",
      "metadata": {
        "id": "n6_DHZqf5OX3"
      },
      "source": [
        "Seems that if you embarked from Southampton you were more likely to not survive. Is this because of the PClass?"
      ]
    },
    {
      "cell_type": "code",
      "metadata": {
        "id": "tUgfZj-i5Z2j",
        "colab": {
          "base_uri": "https://localhost:8080/",
          "height": 383
        },
        "outputId": "550ee614-390b-4780-cd79-f5100419c5e5"
      },
      "source": [
        "sb.catplot(x = \"Pclass\", col = \"Embarked\", col_wrap = 3, data = train_df, kind = \"count\")\n",
        "plt.show();"
      ],
      "execution_count": 27,
      "outputs": [
        {
          "output_type": "display_data",
          "data": {
            "image/png": "[encoded data removed]",
            "text/plain": [
              "<Figure size 1080x360 with 3 Axes>"
            ]
          },
          "metadata": {
            "tags": [],
            "needs_background": "light"
          }
        }
      ]
    },
    {
      "cell_type": "code",
      "metadata": {
        "id": "d45ZWCi74A8u"
      },
      "source": [
        ""
      ],
      "execution_count": null,
      "outputs": []
    },
    {
      "cell_type": "markdown",
      "metadata": {
        "id": "p_oByxERqdTI"
      },
      "source": [
        "## Preprocessing data\n",
        "Things to do:\n",
        "1. Remove unnecessary columns: PassengerID, Name, Cabin and Ticket.\n",
        "2. Combine SibSp and Parch to one FamilySize feature.\n",
        "3. Remove clear outliers from train_df (like that 80 year old survivor, and the three that paid very much for their ticket). \n",
        "4. Replace the missing Embarked (2 values in train_df) with most common Embarked value (S).\n",
        "5. Replace missing ages in train_df and in test_df using random values from the normal distribution around the average.\n",
        "6. Change Embarked and Sex to dummy variables.\n"
      ]
    },
    {
      "cell_type": "code",
      "metadata": {
        "id": "WVq4az8mk7RH"
      },
      "source": [
        "#removing unnecessary columns\n",
        "train_df = train_df.drop(['PassengerId', 'Name', 'Ticket', 'Cabin'], axis=1)\n",
        "test_df = test_df.drop(['Name','Ticket', 'Cabin'], axis=1) #Here we do not remove PassengerID because it is needed when we submit our results to Kaggle."
      ],
      "execution_count": 35,
      "outputs": []
    },
    {
      "cell_type": "code",
      "metadata": {
        "id": "upI9-l9anE1Y"
      },
      "source": [
        "#combining SibSp and Parch\n",
        "train_df['FamilySize']=train_df['SibSp']+train_df['Parch']+1 # +1 because familysize 0 for singles sounds weird\n",
        "test_df['FamilySize']=test_df['SibSp']+test_df['Parch']+1\n",
        "train_df = train_df.drop(['SibSp', 'Parch'], axis = 1)\n",
        "test_df = test_df.drop(['SibSp', 'Parch'], axis = 1)"
      ],
      "execution_count": 36,
      "outputs": []
    },
    {
      "cell_type": "code",
      "metadata": {
        "colab": {
          "base_uri": "https://localhost:8080/",
          "height": 195
        },
        "id": "_5CwHg1wFj3L",
        "outputId": "b43635ae-965a-4cca-98dc-c13768517a5d"
      },
      "source": [
        "train_df.head()"
      ],
      "execution_count": 37,
      "outputs": [
        {
          "output_type": "execute_result",
          "data": {
            "text/html": [
              "<div>\n",
              "<style scoped>\n",
              "    .dataframe tbody tr th:only-of-type {\n",
              "        vertical-align: middle;\n",
              "    }\n",
              "\n",
              "    .dataframe tbody tr th {\n",
              "        vertical-align: top;\n",
              "    }\n",
              "\n",
              "    .dataframe thead th {\n",
              "        text-align: right;\n",
              "    }\n",
              "</style>\n",
              "<table border=\"1\" class=\"dataframe\">\n",
              "  <thead>\n",
              "    <tr style=\"text-align: right;\">\n",
              "      <th></th>\n",
              "      <th>Survived</th>\n",
              "      <th>Pclass</th>\n",
              "      <th>Sex</th>\n",
              "      <th>Age</th>\n",
              "      <th>Fare</th>\n",
              "      <th>Embarked</th>\n",
              "      <th>FamilySize</th>\n",
              "    </tr>\n",
              "  </thead>\n",
              "  <tbody>\n",
              "    <tr>\n",
              "      <th>0</th>\n",
              "      <td>0</td>\n",
              "      <td>3</td>\n",
              "      <td>male</td>\n",
              "      <td>22.0</td>\n",
              "      <td>7.2500</td>\n",
              "      <td>S</td>\n",
              "      <td>2</td>\n",
              "    </tr>\n",
              "    <tr>\n",
              "      <th>1</th>\n",
              "      <td>1</td>\n",
              "      <td>1</td>\n",
              "      <td>female</td>\n",
              "      <td>38.0</td>\n",
              "      <td>71.2833</td>\n",
              "      <td>C</td>\n",
              "      <td>2</td>\n",
              "    </tr>\n",
              "    <tr>\n",
              "      <th>2</th>\n",
              "      <td>1</td>\n",
              "      <td>3</td>\n",
              "      <td>female</td>\n",
              "      <td>26.0</td>\n",
              "      <td>7.9250</td>\n",
              "      <td>S</td>\n",
              "      <td>1</td>\n",
              "    </tr>\n",
              "    <tr>\n",
              "      <th>3</th>\n",
              "      <td>1</td>\n",
              "      <td>1</td>\n",
              "      <td>female</td>\n",
              "      <td>35.0</td>\n",
              "      <td>53.1000</td>\n",
              "      <td>S</td>\n",
              "      <td>2</td>\n",
              "    </tr>\n",
              "    <tr>\n",
              "      <th>4</th>\n",
              "      <td>0</td>\n",
              "      <td>3</td>\n",
              "      <td>male</td>\n",
              "      <td>35.0</td>\n",
              "      <td>8.0500</td>\n",
              "      <td>S</td>\n",
              "      <td>1</td>\n",
              "    </tr>\n",
              "  </tbody>\n",
              "</table>\n",
              "</div>"
            ],
            "text/plain": [
              "   Survived  Pclass     Sex   Age     Fare Embarked  FamilySize\n",
              "0         0       3    male  22.0   7.2500        S           2\n",
              "1         1       1  female  38.0  71.2833        C           2\n",
              "2         1       3  female  26.0   7.9250        S           1\n",
              "3         1       1  female  35.0  53.1000        S           2\n",
              "4         0       3    male  35.0   8.0500        S           1"
            ]
          },
          "metadata": {
            "tags": []
          },
          "execution_count": 37
        }
      ]
    },
    {
      "cell_type": "code",
      "metadata": {
        "colab": {
          "base_uri": "https://localhost:8080/",
          "height": 195
        },
        "id": "FsTF4yrYFqJ9",
        "outputId": "944633a6-4aee-452c-d057-39d3f69de870"
      },
      "source": [
        "test_df.head()"
      ],
      "execution_count": 38,
      "outputs": [
        {
          "output_type": "execute_result",
          "data": {
            "text/html": [
              "<div>\n",
              "<style scoped>\n",
              "    .dataframe tbody tr th:only-of-type {\n",
              "        vertical-align: middle;\n",
              "    }\n",
              "\n",
              "    .dataframe tbody tr th {\n",
              "        vertical-align: top;\n",
              "    }\n",
              "\n",
              "    .dataframe thead th {\n",
              "        text-align: right;\n",
              "    }\n",
              "</style>\n",
              "<table border=\"1\" class=\"dataframe\">\n",
              "  <thead>\n",
              "    <tr style=\"text-align: right;\">\n",
              "      <th></th>\n",
              "      <th>PassengerId</th>\n",
              "      <th>Pclass</th>\n",
              "      <th>Sex</th>\n",
              "      <th>Age</th>\n",
              "      <th>Fare</th>\n",
              "      <th>Embarked</th>\n",
              "      <th>FamilySize</th>\n",
              "    </tr>\n",
              "  </thead>\n",
              "  <tbody>\n",
              "    <tr>\n",
              "      <th>0</th>\n",
              "      <td>892</td>\n",
              "      <td>3</td>\n",
              "      <td>male</td>\n",
              "      <td>34.5</td>\n",
              "      <td>7.8292</td>\n",
              "      <td>Q</td>\n",
              "      <td>1</td>\n",
              "    </tr>\n",
              "    <tr>\n",
              "      <th>1</th>\n",
              "      <td>893</td>\n",
              "      <td>3</td>\n",
              "      <td>female</td>\n",
              "      <td>47.0</td>\n",
              "      <td>7.0000</td>\n",
              "      <td>S</td>\n",
              "      <td>2</td>\n",
              "    </tr>\n",
              "    <tr>\n",
              "      <th>2</th>\n",
              "      <td>894</td>\n",
              "      <td>2</td>\n",
              "      <td>male</td>\n",
              "      <td>62.0</td>\n",
              "      <td>9.6875</td>\n",
              "      <td>Q</td>\n",
              "      <td>1</td>\n",
              "    </tr>\n",
              "    <tr>\n",
              "      <th>3</th>\n",
              "      <td>895</td>\n",
              "      <td>3</td>\n",
              "      <td>male</td>\n",
              "      <td>27.0</td>\n",
              "      <td>8.6625</td>\n",
              "      <td>S</td>\n",
              "      <td>1</td>\n",
              "    </tr>\n",
              "    <tr>\n",
              "      <th>4</th>\n",
              "      <td>896</td>\n",
              "      <td>3</td>\n",
              "      <td>female</td>\n",
              "      <td>22.0</td>\n",
              "      <td>12.2875</td>\n",
              "      <td>S</td>\n",
              "      <td>3</td>\n",
              "    </tr>\n",
              "  </tbody>\n",
              "</table>\n",
              "</div>"
            ],
            "text/plain": [
              "   PassengerId  Pclass     Sex   Age     Fare Embarked  FamilySize\n",
              "0          892       3    male  34.5   7.8292        Q           1\n",
              "1          893       3  female  47.0   7.0000        S           2\n",
              "2          894       2    male  62.0   9.6875        Q           1\n",
              "3          895       3    male  27.0   8.6625        S           1\n",
              "4          896       3  female  22.0  12.2875        S           3"
            ]
          },
          "metadata": {
            "tags": []
          },
          "execution_count": 38
        }
      ]
    },
    {
      "cell_type": "code",
      "metadata": {
        "colab": {
          "base_uri": "https://localhost:8080/",
          "height": 47
        },
        "id": "VWgqBHDcBy27",
        "outputId": "3c72cfb0-7d87-42a2-d1ba-eedaeaf0ca33"
      },
      "source": [
        "# Filling missing values for Embarked\n",
        "train_df[\"Embarked\"] = train_df[\"Embarked\"].fillna('S')\n",
        "train_df[train_df[\"Embarked\"].isnull()]"
      ],
      "execution_count": 40,
      "outputs": [
        {
          "output_type": "execute_result",
          "data": {
            "text/html": [
              "<div>\n",
              "<style scoped>\n",
              "    .dataframe tbody tr th:only-of-type {\n",
              "        vertical-align: middle;\n",
              "    }\n",
              "\n",
              "    .dataframe tbody tr th {\n",
              "        vertical-align: top;\n",
              "    }\n",
              "\n",
              "    .dataframe thead th {\n",
              "        text-align: right;\n",
              "    }\n",
              "</style>\n",
              "<table border=\"1\" class=\"dataframe\">\n",
              "  <thead>\n",
              "    <tr style=\"text-align: right;\">\n",
              "      <th></th>\n",
              "      <th>Survived</th>\n",
              "      <th>Pclass</th>\n",
              "      <th>Sex</th>\n",
              "      <th>Age</th>\n",
              "      <th>Fare</th>\n",
              "      <th>Embarked</th>\n",
              "      <th>FamilySize</th>\n",
              "    </tr>\n",
              "  </thead>\n",
              "  <tbody>\n",
              "  </tbody>\n",
              "</table>\n",
              "</div>"
            ],
            "text/plain": [
              "Empty DataFrame\n",
              "Columns: [Survived, Pclass, Sex, Age, Fare, Embarked, FamilySize]\n",
              "Index: []"
            ]
          },
          "metadata": {
            "tags": []
          },
          "execution_count": 40
        }
      ]
    },
    {
      "cell_type": "markdown",
      "metadata": {
        "id": "g6kR3VLCs55B"
      },
      "source": [
        "## Checking different classification models"
      ]
    },
    {
      "cell_type": "markdown",
      "metadata": {
        "id": "VrB5bQdwtCj1"
      },
      "source": [
        "### Logistic regression"
      ]
    },
    {
      "cell_type": "markdown",
      "metadata": {
        "id": "LLrg5Q2ItGJe"
      },
      "source": [
        "### K Nearest neigbours"
      ]
    }
  ]
}